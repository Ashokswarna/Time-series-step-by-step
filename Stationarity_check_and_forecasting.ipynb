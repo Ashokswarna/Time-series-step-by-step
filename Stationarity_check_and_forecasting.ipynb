{
 "cells": [
  {
   "cell_type": "code",
   "execution_count": 2,
   "metadata": {},
   "outputs": [],
   "source": [
    "import pandas as pd\n",
    "import os\n",
    "import matplotlib.pyplot as plt\n",
    "from statsmodels.tsa.seasonal import seasonal_decompose\n",
    "from pmdarima.arima import auto_arima\n",
    "from sklearn.metrics import mean_squared_error, mean_absolute_error\n",
    "import numpy as np\n",
    "from statsmodels.tsa.stattools import adfuller\n",
    "import numpy as np\n",
    "from statsmodels.graphics.tsaplots import plot_acf \n",
    "from statsmodels.graphics.tsaplots import plot_pacf\n",
    "from statsmodels.tsa.statespace.sarimax import SARIMAX"
   ]
  },
  {
   "cell_type": "code",
   "execution_count": 3,
   "metadata": {},
   "outputs": [
    {
     "data": {
      "text/plain": [
       "'C:\\\\Users\\\\ashok.swarna\\\\OneDrive - Accenture\\\\cenlar'"
      ]
     },
     "execution_count": 3,
     "metadata": {},
     "output_type": "execute_result"
    }
   ],
   "source": [
    "os.getcwd()"
   ]
  },
  {
   "cell_type": "code",
   "execution_count": 4,
   "metadata": {},
   "outputs": [],
   "source": [
    "def load_file():\n",
    "    \n",
    "    df = pd.read_excel('external_regressors_main1.xlsx')\n",
    "    df.head()\n",
    "    df.reset_index(drop=True)\n",
    "    df = df.set_index('Date')\n",
    "    df.columns = df.columns.str.replace(' ', '_')\n",
    "    cols = df.columns\n",
    "    \n",
    "    return df, cols"
   ]
  },
  {
   "cell_type": "code",
   "execution_count": 5,
   "metadata": {},
   "outputs": [],
   "source": [
    "df , cols = load_file()"
   ]
  },
  {
   "cell_type": "code",
   "execution_count": 6,
   "metadata": {},
   "outputs": [
    {
     "data": {
      "text/plain": [
       "Index(['STR', 'ARM', 'HPI', 'EMPL_non_farm_Employment', 'arm_adjustable_rates',\n",
       "       'population_Millions', '30_year_Interest_rate_Mortgage', 'armrate',\n",
       "       'r-mortg', 'spread-mortg', '1_year_Treasury', '10_years_Treasury',\n",
       "       'treasury_Difference(Spread_treas)', 'unemploymet_rate'],\n",
       "      dtype='object')"
      ]
     },
     "execution_count": 6,
     "metadata": {},
     "output_type": "execute_result"
    }
   ],
   "source": [
    "cols"
   ]
  },
  {
   "cell_type": "code",
   "execution_count": 7,
   "metadata": {},
   "outputs": [
    {
     "data": {
      "text/html": [
       "<div>\n",
       "<style scoped>\n",
       "    .dataframe tbody tr th:only-of-type {\n",
       "        vertical-align: middle;\n",
       "    }\n",
       "\n",
       "    .dataframe tbody tr th {\n",
       "        vertical-align: top;\n",
       "    }\n",
       "\n",
       "    .dataframe thead th {\n",
       "        text-align: right;\n",
       "    }\n",
       "</style>\n",
       "<table border=\"1\" class=\"dataframe\">\n",
       "  <thead>\n",
       "    <tr style=\"text-align: right;\">\n",
       "      <th></th>\n",
       "      <th>STR</th>\n",
       "      <th>ARM</th>\n",
       "      <th>HPI</th>\n",
       "      <th>EMPL_non_farm_Employment</th>\n",
       "      <th>arm_adjustable_rates</th>\n",
       "      <th>population_Millions</th>\n",
       "      <th>30_year_Interest_rate_Mortgage</th>\n",
       "      <th>armrate</th>\n",
       "      <th>r-mortg</th>\n",
       "      <th>spread-mortg</th>\n",
       "      <th>1_year_Treasury</th>\n",
       "      <th>10_years_Treasury</th>\n",
       "      <th>treasury_Difference(Spread_treas)</th>\n",
       "      <th>unemploymet_rate</th>\n",
       "    </tr>\n",
       "    <tr>\n",
       "      <th>Date</th>\n",
       "      <th></th>\n",
       "      <th></th>\n",
       "      <th></th>\n",
       "      <th></th>\n",
       "      <th></th>\n",
       "      <th></th>\n",
       "      <th></th>\n",
       "      <th></th>\n",
       "      <th></th>\n",
       "      <th></th>\n",
       "      <th></th>\n",
       "      <th></th>\n",
       "      <th></th>\n",
       "      <th></th>\n",
       "    </tr>\n",
       "  </thead>\n",
       "  <tbody>\n",
       "    <tr>\n",
       "      <th>2017-06-01</th>\n",
       "      <td>72238.0</td>\n",
       "      <td>3306.0</td>\n",
       "      <td>192.396</td>\n",
       "      <td>146533.0</td>\n",
       "      <td>3.14</td>\n",
       "      <td>324.96</td>\n",
       "      <td>3.90</td>\n",
       "      <td>4.17</td>\n",
       "      <td>3.90</td>\n",
       "      <td>0.27</td>\n",
       "      <td>0.733333</td>\n",
       "      <td>2.186818</td>\n",
       "      <td>1.453485</td>\n",
       "      <td>4.3</td>\n",
       "    </tr>\n",
       "    <tr>\n",
       "      <th>2017-07-01</th>\n",
       "      <td>72022.0</td>\n",
       "      <td>3078.0</td>\n",
       "      <td>193.655</td>\n",
       "      <td>146737.0</td>\n",
       "      <td>3.22</td>\n",
       "      <td>325.15</td>\n",
       "      <td>3.97</td>\n",
       "      <td>4.15</td>\n",
       "      <td>3.97</td>\n",
       "      <td>0.18</td>\n",
       "      <td>0.677419</td>\n",
       "      <td>2.207619</td>\n",
       "      <td>1.530200</td>\n",
       "      <td>4.3</td>\n",
       "    </tr>\n",
       "    <tr>\n",
       "      <th>2017-08-01</th>\n",
       "      <td>76276.0</td>\n",
       "      <td>2740.0</td>\n",
       "      <td>194.498</td>\n",
       "      <td>146924.0</td>\n",
       "      <td>3.15</td>\n",
       "      <td>325.34</td>\n",
       "      <td>3.88</td>\n",
       "      <td>4.16</td>\n",
       "      <td>3.88</td>\n",
       "      <td>0.28</td>\n",
       "      <td>0.741935</td>\n",
       "      <td>2.209130</td>\n",
       "      <td>1.467195</td>\n",
       "      <td>4.4</td>\n",
       "    </tr>\n",
       "    <tr>\n",
       "      <th>2017-09-01</th>\n",
       "      <td>73203.0</td>\n",
       "      <td>2375.0</td>\n",
       "      <td>194.974</td>\n",
       "      <td>146942.0</td>\n",
       "      <td>3.16</td>\n",
       "      <td>325.54</td>\n",
       "      <td>3.81</td>\n",
       "      <td>4.10</td>\n",
       "      <td>3.81</td>\n",
       "      <td>0.29</td>\n",
       "      <td>0.700000</td>\n",
       "      <td>2.097143</td>\n",
       "      <td>1.397143</td>\n",
       "      <td>4.2</td>\n",
       "    </tr>\n",
       "    <tr>\n",
       "      <th>2017-10-01</th>\n",
       "      <td>75028.0</td>\n",
       "      <td>2357.0</td>\n",
       "      <td>195.241</td>\n",
       "      <td>147202.0</td>\n",
       "      <td>3.18</td>\n",
       "      <td>325.73</td>\n",
       "      <td>3.90</td>\n",
       "      <td>4.21</td>\n",
       "      <td>3.90</td>\n",
       "      <td>0.31</td>\n",
       "      <td>0.709677</td>\n",
       "      <td>2.252727</td>\n",
       "      <td>1.543050</td>\n",
       "      <td>4.1</td>\n",
       "    </tr>\n",
       "  </tbody>\n",
       "</table>\n",
       "</div>"
      ],
      "text/plain": [
       "                STR     ARM      HPI  EMPL_non_farm_Employment  \\\n",
       "Date                                                             \n",
       "2017-06-01  72238.0  3306.0  192.396                  146533.0   \n",
       "2017-07-01  72022.0  3078.0  193.655                  146737.0   \n",
       "2017-08-01  76276.0  2740.0  194.498                  146924.0   \n",
       "2017-09-01  73203.0  2375.0  194.974                  146942.0   \n",
       "2017-10-01  75028.0  2357.0  195.241                  147202.0   \n",
       "\n",
       "            arm_adjustable_rates  population_Millions  \\\n",
       "Date                                                    \n",
       "2017-06-01                  3.14               324.96   \n",
       "2017-07-01                  3.22               325.15   \n",
       "2017-08-01                  3.15               325.34   \n",
       "2017-09-01                  3.16               325.54   \n",
       "2017-10-01                  3.18               325.73   \n",
       "\n",
       "            30_year_Interest_rate_Mortgage  armrate  r-mortg  spread-mortg  \\\n",
       "Date                                                                         \n",
       "2017-06-01                            3.90     4.17     3.90          0.27   \n",
       "2017-07-01                            3.97     4.15     3.97          0.18   \n",
       "2017-08-01                            3.88     4.16     3.88          0.28   \n",
       "2017-09-01                            3.81     4.10     3.81          0.29   \n",
       "2017-10-01                            3.90     4.21     3.90          0.31   \n",
       "\n",
       "            1_year_Treasury  10_years_Treasury  \\\n",
       "Date                                             \n",
       "2017-06-01         0.733333           2.186818   \n",
       "2017-07-01         0.677419           2.207619   \n",
       "2017-08-01         0.741935           2.209130   \n",
       "2017-09-01         0.700000           2.097143   \n",
       "2017-10-01         0.709677           2.252727   \n",
       "\n",
       "            treasury_Difference(Spread_treas)  unemploymet_rate  \n",
       "Date                                                             \n",
       "2017-06-01                           1.453485               4.3  \n",
       "2017-07-01                           1.530200               4.3  \n",
       "2017-08-01                           1.467195               4.4  \n",
       "2017-09-01                           1.397143               4.2  \n",
       "2017-10-01                           1.543050               4.1  "
      ]
     },
     "execution_count": 7,
     "metadata": {},
     "output_type": "execute_result"
    }
   ],
   "source": [
    "df.head()"
   ]
  },
  {
   "cell_type": "code",
   "execution_count": 8,
   "metadata": {},
   "outputs": [],
   "source": [
    "def train_Arima(train):\n",
    "    \n",
    "    arima = auto_arima(train,error_action='ignore', \n",
    "                       trace= True ,seasonal=False, m=12, suppress_warnings=True) \n",
    "    preds = arima.predict(n_periods=7)\n",
    "                       \n",
    "    return arima, preds"
   ]
  },
  {
   "cell_type": "code",
   "execution_count": 9,
   "metadata": {},
   "outputs": [],
   "source": [
    "def mean_absolute_percentage_error(y_true, y_pred): \n",
    "    \"\"\"Calculates MAPE given y_true and y_pred\"\"\"\n",
    "    y_true, y_pred = np.array(y_true), np.array(y_pred)\n",
    "    \n",
    "    return np.mean(np.abs((y_true - y_pred) / y_true)) * 100"
   ]
  },
  {
   "cell_type": "code",
   "execution_count": 10,
   "metadata": {},
   "outputs": [],
   "source": [
    "def metrics(y_test, test_pred):\n",
    "    \n",
    "    MSE =mean_squared_error(y_true=y_test, y_pred=test_pred)                \n",
    "    MAE = mean_absolute_error(y_true=y_test, y_pred=test_pred)\n",
    "    MAPE = mean_absolute_percentage_error(y_test, test_pred)\n",
    "\n",
    "    return MSE, MAE, MAPE"
   ]
  },
  {
   "cell_type": "markdown",
   "metadata": {},
   "source": [
    "# HPI"
   ]
  },
  {
   "cell_type": "code",
   "execution_count": 11,
   "metadata": {},
   "outputs": [
    {
     "data": {
      "text/plain": [
       "Date\n",
       "2017-06-01    192.396\n",
       "2017-07-01    193.655\n",
       "2017-08-01    194.498\n",
       "2017-09-01    194.974\n",
       "2017-10-01    195.241\n",
       "Name: HPI, dtype: float64"
      ]
     },
     "execution_count": 11,
     "metadata": {},
     "output_type": "execute_result"
    }
   ],
   "source": [
    "df_hpi=df['HPI']\n",
    "df_hpi=df_hpi.sort_index()\n",
    "df_hpi.head()"
   ]
  },
  {
   "cell_type": "code",
   "execution_count": 12,
   "metadata": {},
   "outputs": [
    {
     "data": {
      "image/png": "[encoded data removed]",
      "text/plain": [
       "<Figure size 432x288 with 1 Axes>"
      ]
     },
     "metadata": {
      "needs_background": "light"
     },
     "output_type": "display_data"
    }
   ],
   "source": [
    "\n",
    "\n",
    "boxplot = df.boxplot(column=['HPI'])"
   ]
  },
  {
   "cell_type": "code",
   "execution_count": 13,
   "metadata": {},
   "outputs": [
    {
     "data": {
      "text/plain": [
       "[<matplotlib.lines.Line2D at 0x17ed89dc8d0>]"
      ]
     },
     "execution_count": 13,
     "metadata": {},
     "output_type": "execute_result"
    },
    {
     "data": {
      "image/png": "[encoded data removed]",
      "text/plain": [
       "<Figure size 432x288 with 1 Axes>"
      ]
     },
     "metadata": {
      "needs_background": "light"
     },
     "output_type": "display_data"
    }
   ],
   "source": [
    "plt.plot(df_hpi)"
   ]
  },
  {
   "cell_type": "code",
   "execution_count": 14,
   "metadata": {},
   "outputs": [
    {
     "data": {
      "image/png": "[encoded data removed]",
      "text/plain": [
       "<Figure size 432x288 with 4 Axes>"
      ]
     },
     "metadata": {
      "needs_background": "light"
     },
     "output_type": "display_data"
    }
   ],
   "source": [
    "result = seasonal_decompose(df_hpi, model='additive', freq=1)\n",
    "result.plot()\n",
    "plt.show()"
   ]
  },
  {
   "cell_type": "markdown",
   "metadata": {},
   "source": [
    "perform Duckey fuller test"
   ]
  },
  {
   "cell_type": "code",
   "execution_count": 15,
   "metadata": {},
   "outputs": [
    {
     "name": "stdout",
     "output_type": "stream",
     "text": [
      "ADF Statistic: -4.531958\n",
      "p-value: 0.000172\n",
      "Critical Values:\n",
      "\t1%: -3.809\n",
      "\t5%: -3.022\n",
      "\t10%: -2.651\n"
     ]
    }
   ],
   "source": [
    "result = adfuller(df_hpi)\n",
    "print('ADF Statistic: %f' % result[0])\n",
    "print('p-value: %f' % result[1])\n",
    "print('Critical Values:')\n",
    "for key, value in result[4].items():\n",
    "    print('\\t%s: %.3f' % (key, value))"
   ]
  },
  {
   "cell_type": "code",
   "execution_count": 16,
   "metadata": {},
   "outputs": [
    {
     "data": {
      "text/plain": [
       "0    192.396\n",
       "1    193.655\n",
       "2    194.498\n",
       "3    194.974\n",
       "4    195.241\n",
       "Name: HPI, dtype: float64"
      ]
     },
     "execution_count": 16,
     "metadata": {},
     "output_type": "execute_result"
    }
   ],
   "source": [
    "hpi = df_hpi\n",
    "hpi = hpi.reset_index(drop=True)\n",
    "hpi.head()"
   ]
  },
  {
   "cell_type": "code",
   "execution_count": 17,
   "metadata": {},
   "outputs": [],
   "source": [
    "a1_2017 = hpi.head(12)\n",
    "a1_2018_ = hpi.tail(22)\n",
    "a1_2018 = a1_2018_.head(12)\n",
    "a1_2019 = hpi.tail(10)\n",
    "a1_2017 = a1_2017.reset_index(drop=True)\n",
    "a1_2018 = a1_2018.reset_index(drop=True)\n",
    "a1_2019 = a1_2019.reset_index(drop=True)"
   ]
  },
  {
   "cell_type": "code",
   "execution_count": 18,
   "metadata": {},
   "outputs": [
    {
     "data": {
      "image/png": "[encoded data removed]",
      "text/plain": [
       "<Figure size 432x288 with 1 Axes>"
      ]
     },
     "metadata": {
      "needs_background": "light"
     },
     "output_type": "display_data"
    }
   ],
   "source": [
    "plt.plot(a1_2017)\n",
    "plt.plot(a1_2018)\n",
    "plt.plot(a1_2019)\n",
    "plt.show()"
   ]
  },
  {
   "cell_type": "code",
   "execution_count": 19,
   "metadata": {},
   "outputs": [
    {
     "name": "stdout",
     "output_type": "stream",
     "text": [
      "ADF Statistic: -4.569897\n",
      "p-value: 0.000147\n",
      "Critical Values:\n",
      "\t1%: -3.809\n",
      "\t5%: -3.022\n",
      "\t10%: -2.651\n"
     ]
    }
   ],
   "source": [
    "#log transformation\n",
    "ts_hpi = np.log(df_hpi)\n",
    "result = adfuller(ts_hpi)\n",
    "print('ADF Statistic: %f' % result[0])\n",
    "print('p-value: %f' % result[1])\n",
    "print('Critical Values:')\n",
    "for key, value in result[4].items():\n",
    "    print('\\t%s: %.3f' % (key, value))"
   ]
  },
  {
   "cell_type": "markdown",
   "metadata": {},
   "source": [
    "data was stationary try 1st order differencing on original dataset"
   ]
  },
  {
   "cell_type": "code",
   "execution_count": 20,
   "metadata": {},
   "outputs": [],
   "source": [
    "X=df_hpi\n",
    "diff = list()\n",
    "for i in range(1, len(X)):\n",
    "    value = X[i] - X[i - 1]\n",
    "    diff.append(value)"
   ]
  },
  {
   "cell_type": "code",
   "execution_count": 21,
   "metadata": {},
   "outputs": [
    {
     "name": "stdout",
     "output_type": "stream",
     "text": [
      "ADF Statistic: -3.673999\n",
      "p-value: 0.004494\n",
      "Critical Values:\n",
      "\t1%: -3.711\n",
      "\t5%: -2.981\n",
      "\t10%: -2.630\n"
     ]
    }
   ],
   "source": [
    "result = adfuller(diff)\n",
    "print('ADF Statistic: %f' % result[0])\n",
    "print('p-value: %f' % result[1])\n",
    "print('Critical Values:')\n",
    "for key, value in result[4].items():\n",
    "    print('\\t%s: %.3f' % (key, value))"
   ]
  },
  {
   "cell_type": "markdown",
   "metadata": {},
   "source": [
    "Now data is stationary check the same using KPSS as well"
   ]
  },
  {
   "cell_type": "code",
   "execution_count": 22,
   "metadata": {},
   "outputs": [],
   "source": [
    "from statsmodels.tsa.stattools import kpss"
   ]
  },
  {
   "cell_type": "code",
   "execution_count": 23,
   "metadata": {},
   "outputs": [
    {
     "name": "stdout",
     "output_type": "stream",
     "text": [
      "Test Statistic           0.270\n",
      "p-value                  0.100\n",
      "Lags Used                9.000\n",
      "Critical Value (10%)     0.347\n",
      "Critical Value (5%)      0.463\n",
      "Critical Value (2.5%)    0.574\n",
      "Critical Value (1%)      0.739\n",
      "dtype: float64\n"
     ]
    },
    {
     "name": "stderr",
     "output_type": "stream",
     "text": [
      "C:\\Users\\ashok.swarna\\AppData\\Local\\Continuum\\anaconda3\\lib\\site-packages\\statsmodels\\tsa\\stattools.py:1685: FutureWarning: The behavior of using lags=None will change in the next release. Currently lags=None is the same as lags='legacy', and so a sample-size lag length is used. After the next release, the default will change to be the same as lags='auto' which uses an automatic lag length selection method. To silence this warning, either use 'auto' or 'legacy'\n",
      "  warn(msg, FutureWarning)\n",
      "C:\\Users\\ashok.swarna\\AppData\\Local\\Continuum\\anaconda3\\lib\\site-packages\\statsmodels\\tsa\\stattools.py:1711: InterpolationWarning: p-value is greater than the indicated p-value\n",
      "  warn(\"p-value is greater than the indicated p-value\", InterpolationWarning)\n"
     ]
    }
   ],
   "source": [
    "kpsstest = kpss(diff, regression='c')\n",
    "kpss_output = pd.Series(kpsstest[0:3], index=['Test Statistic','p-value','Lags Used'])\n",
    "for key,value in kpsstest[3].items():\n",
    "    kpss_output['Critical Value (%s)'%key] = value\n",
    "print (kpss_output)"
   ]
  },
  {
   "cell_type": "code",
   "execution_count": 24,
   "metadata": {},
   "outputs": [
    {
     "data": {
      "image/png": "[encoded data removed]",
      "text/plain": [
       "<Figure size 432x288 with 4 Axes>"
      ]
     },
     "metadata": {
      "needs_background": "light"
     },
     "output_type": "display_data"
    }
   ],
   "source": [
    "\n",
    "#test  statistic is less than the critical value at 10% hence can assue it is stationary\n",
    "result = seasonal_decompose(diff, model='additive', freq=1)\n",
    "result.plot()\n",
    "plt.show()"
   ]
  },
  {
   "cell_type": "code",
   "execution_count": 25,
   "metadata": {},
   "outputs": [
    {
     "data": {
      "image/png": "[encoded data removed]",
      "text/plain": [
       "<Figure size 432x288 with 1 Axes>"
      ]
     },
     "metadata": {
      "needs_background": "light"
     },
     "output_type": "display_data"
    }
   ],
   "source": [
    "plot_acf(df_hpi, ax=plt.gca())\n",
    "plt.show()"
   ]
  },
  {
   "cell_type": "code",
   "execution_count": 26,
   "metadata": {},
   "outputs": [
    {
     "data": {
      "image/png": "[encoded data removed]",
      "text/plain": [
       "<Figure size 432x288 with 1 Axes>"
      ]
     },
     "metadata": {
      "needs_background": "light"
     },
     "output_type": "display_data"
    }
   ],
   "source": [
    "plot_pacf(df_hpi, ax=plt.gca())\n",
    "plt.show()"
   ]
  },
  {
   "cell_type": "code",
   "execution_count": 41,
   "metadata": {},
   "outputs": [
    {
     "name": "stderr",
     "output_type": "stream",
     "text": [
      "C:\\Users\\ashok.swarna\\AppData\\Local\\Continuum\\anaconda3\\lib\\site-packages\\statsmodels\\tsa\\base\\tsa_model.py:165: ValueWarning: No frequency information was provided, so inferred frequency MS will be used.\n",
      "  % freq, ValueWarning)\n"
     ]
    }
   ],
   "source": [
    "#now fit the arima as the data is stationary\n",
    "tr_hpi, te_hpi = df_hpi[:22], df_hpi[23:34]\n",
    "model = SARIMAX(tr_hpi, order=(3, 1, 0), seasonal_order=(0, 0, 0, 1))\n",
    "model_hpi = model.fit(disp=False)"
   ]
  },
  {
   "cell_type": "code",
   "execution_count": 42,
   "metadata": {},
   "outputs": [
    {
     "name": "stdout",
     "output_type": "stream",
     "text": [
      "2019-04-01    208.064437\n",
      "2019-05-01    210.109683\n",
      "2019-06-01    211.721832\n",
      "2019-07-01    212.738021\n",
      "2019-08-01    213.248812\n",
      "2019-09-01    213.461319\n",
      "2019-10-01    213.572695\n",
      "Freq: MS, dtype: float64\n",
      "Date\n",
      "2017-06-01    192.396\n",
      "2017-07-01    193.655\n",
      "2017-08-01    194.498\n",
      "2017-09-01    194.974\n",
      "2017-10-01    195.241\n",
      "2017-11-01    195.608\n",
      "2017-12-01    196.015\n",
      "2018-01-01    196.290\n",
      "2018-02-01    197.082\n",
      "2018-03-01    198.755\n",
      "2018-04-01    200.799\n",
      "2018-05-01    202.661\n",
      "2018-06-01    204.265\n",
      "2018-07-01    205.183\n",
      "2018-08-01    205.554\n",
      "2018-09-01    205.599\n",
      "2018-10-01    205.594\n",
      "2018-11-01    205.338\n",
      "2018-12-01    204.935\n",
      "2019-01-01    204.461\n",
      "2019-02-01    204.716\n",
      "2019-03-01    206.055\n",
      "Name: HPI, dtype: float64\n"
     ]
    }
   ],
   "source": [
    "pred_hpi = model_hpi.predict(start = '2019-04-01', end ='2019-10-01')\n",
    "print(pred_hpi)\n",
    "print(tr_hpi)"
   ]
  },
  {
   "cell_type": "code",
   "execution_count": 43,
   "metadata": {},
   "outputs": [
    {
     "name": "stdout",
     "output_type": "stream",
     "text": [
      "HPI Metrics 1.8185799060074952 1.1945560730255604 0.5654749650894204\n"
     ]
    }
   ],
   "source": [
    "hpi_mse, hpi_mae, hpi_mape = metrics(te_hpi, pred_hpi)\n",
    "print('HPI Metrics',hpi_mse, hpi_mae, hpi_mape)"
   ]
  },
  {
   "cell_type": "code",
   "execution_count": 44,
   "metadata": {},
   "outputs": [
    {
     "data": {
      "text/plain": [
       "Date\n",
       "2019-05-01    209.646000\n",
       "2019-06-01    210.868000\n",
       "2019-07-01    211.626000\n",
       "2019-08-01    212.060000\n",
       "2019-09-01    211.521000\n",
       "2019-10-01    211.740000\n",
       "2019-11-01    211.773667\n",
       "Name: HPI, dtype: float64"
      ]
     },
     "execution_count": 44,
     "metadata": {},
     "output_type": "execute_result"
    }
   ],
   "source": [
    "te_hpi"
   ]
  },
  {
   "cell_type": "code",
   "execution_count": null,
   "metadata": {},
   "outputs": [],
   "source": [
    "pred_hpi"
   ]
  },
  {
   "cell_type": "markdown",
   "metadata": {},
   "source": [
    "# EMPL"
   ]
  },
  {
   "cell_type": "code",
   "execution_count": null,
   "metadata": {},
   "outputs": [],
   "source": [
    "df_empl=df['EMPL_-_non-farm_Employment']\n",
    "df_empl=df_empl.sort_index()\n",
    "df_empl.head()"
   ]
  },
  {
   "cell_type": "code",
   "execution_count": null,
   "metadata": {},
   "outputs": [],
   "source": [
    "boxplot = df.boxplot(column=['EMPL_-_non-farm_Employment'])"
   ]
  },
  {
   "cell_type": "code",
   "execution_count": null,
   "metadata": {},
   "outputs": [],
   "source": [
    "result = seasonal_decompose(df_empl, model='additive', freq=1)\n",
    "result.plot()\n",
    "plt.show()"
   ]
  },
  {
   "cell_type": "code",
   "execution_count": null,
   "metadata": {},
   "outputs": [],
   "source": [
    "result = adfuller(df_empl)\n",
    "print('ADF Statistic: %f' % result[0])\n",
    "print('p-value: %f' % result[1])\n",
    "print('Critical Values:')\n",
    "for key, value in result[4].items():\n",
    "    print('\\t%s: %.3f' % (key, value))"
   ]
  },
  {
   "cell_type": "code",
   "execution_count": null,
   "metadata": {},
   "outputs": [],
   "source": [
    "empl = df_empl\n",
    "empl = empl.reset_index(drop=True)\n",
    "empl.head()"
   ]
  },
  {
   "cell_type": "code",
   "execution_count": null,
   "metadata": {},
   "outputs": [],
   "source": [
    "a1_2017 = empl.head(12)\n",
    "a1_2018_ = empl.tail(22)\n",
    "a1_2018 = a1_2018_.head(12)\n",
    "a1_2019 = empl.tail(10)\n",
    "a1_2017 = a1_2017.reset_index(drop=True)\n",
    "a1_2018 = a1_2018.reset_index(drop=True)\n",
    "a1_2019 = a1_2019.reset_index(drop=True)"
   ]
  },
  {
   "cell_type": "code",
   "execution_count": null,
   "metadata": {},
   "outputs": [],
   "source": [
    "a=plt.plot(a1_2017)\n",
    "b= plt.plot(a1_2018)\n",
    "c=plt.plot(a1_2019)\n",
    "plt.show()"
   ]
  },
  {
   "cell_type": "code",
   "execution_count": null,
   "metadata": {},
   "outputs": [],
   "source": [
    "#log transformation\n",
    "ts_empl = np.log(df_empl)\n",
    "result = adfuller(ts_empl)\n",
    "print('ADF Statistic: %f' % result[0])\n",
    "print('p-value: %f' % result[1])\n",
    "print('Critical Values:')\n",
    "for key, value in result[4].items():\n",
    "    print('\\t%s: %.3f' % (key, value))"
   ]
  },
  {
   "cell_type": "code",
   "execution_count": null,
   "metadata": {},
   "outputs": [],
   "source": [
    "#differencing\n",
    "X=df_empl\n",
    "diff = list()\n",
    "for i in range(1, len(X)):\n",
    "    value = X[i] - X[i - 1]\n",
    "    diff.append(value)"
   ]
  },
  {
   "cell_type": "code",
   "execution_count": null,
   "metadata": {},
   "outputs": [],
   "source": [
    "result = adfuller(diff)\n",
    "print('ADF Statistic: %f' % result[0])\n",
    "print('p-value: %f' % result[1])\n",
    "print('Critical Values:')\n",
    "for key, value in result[4].items():\n",
    "    print('\\t%s: %.3f' % (key, value))"
   ]
  },
  {
   "cell_type": "code",
   "execution_count": null,
   "metadata": {},
   "outputs": [],
   "source": [
    "plt.plot(diff)"
   ]
  },
  {
   "cell_type": "code",
   "execution_count": null,
   "metadata": {},
   "outputs": [],
   "source": [
    "#now data is stationary check with KPSS as well\n",
    "kpsstest = kpss(diff, regression='c')\n",
    "kpss_output = pd.Series(kpsstest[0:3], index=['Test Statistic','p-value','Lags Used'])\n",
    "for key,value in kpsstest[3].items():\n",
    "    kpss_output['Critical Value (%s)'%key] = value\n",
    "print (kpss_output)\n"
   ]
  },
  {
   "cell_type": "code",
   "execution_count": null,
   "metadata": {},
   "outputs": [],
   "source": [
    "plot_acf(df_empl, ax=plt.gca())\n",
    "plt.show()"
   ]
  },
  {
   "cell_type": "code",
   "execution_count": null,
   "metadata": {},
   "outputs": [],
   "source": [
    "plot_pacf(df_empl, ax=plt.gca())\n",
    "plt.show()"
   ]
  },
  {
   "cell_type": "code",
   "execution_count": null,
   "metadata": {},
   "outputs": [],
   "source": [
    "#now fit the arima as the data is stationary\n",
    "tr_empl, te_empl = df_empl[:27], df_empl[27:34]\n",
    "model = SARIMAX(tr_empl, order=(3, 1, 0), seasonal_order=(0, 0, 0, 1))\n",
    "model_empl = model.fit(disp=False)"
   ]
  },
  {
   "cell_type": "code",
   "execution_count": null,
   "metadata": {},
   "outputs": [],
   "source": [
    "pred_empl = model_empl.predict(start = '2019-04-01', end ='2019-10-01')\n",
    "print(pred_empl)"
   ]
  },
  {
   "cell_type": "code",
   "execution_count": null,
   "metadata": {},
   "outputs": [],
   "source": [
    "empl_mse, empl_mae, empl_mape = metrics(te_empl, pred_empl)\n",
    "print('EMPL Metrics',empl_mse, empl_mae, empl_mape)"
   ]
  },
  {
   "cell_type": "code",
   "execution_count": null,
   "metadata": {},
   "outputs": [],
   "source": [
    "pred_empl"
   ]
  },
  {
   "cell_type": "code",
   "execution_count": null,
   "metadata": {},
   "outputs": [],
   "source": [
    "tr_empl"
   ]
  },
  {
   "cell_type": "markdown",
   "metadata": {},
   "source": [
    "# ARM"
   ]
  },
  {
   "cell_type": "code",
   "execution_count": null,
   "metadata": {},
   "outputs": [],
   "source": [
    "df_arm=df['arm_-_adjustable_rates']\n",
    "df_arm=df_arm.sort_index()\n",
    "df_arm.head()"
   ]
  },
  {
   "cell_type": "code",
   "execution_count": null,
   "metadata": {},
   "outputs": [],
   "source": [
    "boxplot = df.boxplot(column=['arm_-_adjustable_rates'])"
   ]
  },
  {
   "cell_type": "code",
   "execution_count": null,
   "metadata": {},
   "outputs": [],
   "source": [
    "result = seasonal_decompose(df_arm, model='additive', freq=1)\n",
    "result.plot()\n",
    "plt.show()"
   ]
  },
  {
   "cell_type": "code",
   "execution_count": null,
   "metadata": {},
   "outputs": [],
   "source": [
    "result = adfuller(df_arm)\n",
    "print('ADF Statistic: %f' % result[0])\n",
    "print('p-value: %f' % result[1])\n",
    "print('Critical Values:')\n",
    "for key, value in result[4].items():\n",
    "    print('\\t%s: %.3f' % (key, value))"
   ]
  },
  {
   "cell_type": "code",
   "execution_count": null,
   "metadata": {},
   "outputs": [],
   "source": [
    "plot_acf(df_arm, ax=plt.gca())\n",
    "plt.show()"
   ]
  },
  {
   "cell_type": "code",
   "execution_count": null,
   "metadata": {},
   "outputs": [],
   "source": [
    "plot_pacf(df_arm, ax=plt.gca())\n",
    "plt.show()"
   ]
  },
  {
   "cell_type": "code",
   "execution_count": null,
   "metadata": {},
   "outputs": [],
   "source": [
    "#the data is stationary at 5% and 10% interval"
   ]
  },
  {
   "cell_type": "code",
   "execution_count": null,
   "metadata": {},
   "outputs": [],
   "source": [
    "train_arm, test_arm = df_arm[:27], df_arm[27:34]\n",
    "arima_arm, pred_arm = train_Arima(train_arm)\n",
    "arima_arm"
   ]
  },
  {
   "cell_type": "code",
   "execution_count": null,
   "metadata": {},
   "outputs": [],
   "source": [
    "arm_mse, arm_mae, arm_mape = metrics(test_arm, pred_arm)\n",
    "print('EMPL Metrics',arm_mse, arm_mae, arm_mape)"
   ]
  },
  {
   "cell_type": "markdown",
   "metadata": {},
   "source": [
    "# population"
   ]
  },
  {
   "cell_type": "code",
   "execution_count": null,
   "metadata": {},
   "outputs": [],
   "source": [
    "df_population=df['population(Millions)']\n",
    "df_population=df_population.sort_index()\n",
    "df_population.head()"
   ]
  },
  {
   "cell_type": "code",
   "execution_count": null,
   "metadata": {},
   "outputs": [],
   "source": [
    "boxplot = df.boxplot(column=['population(Millions)'])"
   ]
  },
  {
   "cell_type": "code",
   "execution_count": null,
   "metadata": {},
   "outputs": [],
   "source": [
    "result = seasonal_decompose(df_population, model='additive', freq=1)\n",
    "result.plot()\n",
    "plt.show()"
   ]
  },
  {
   "cell_type": "code",
   "execution_count": null,
   "metadata": {},
   "outputs": [],
   "source": [
    "result = adfuller(df_population)\n",
    "print('ADF Statistic: %f' % result[0])\n",
    "print('p-value: %f' % result[1])\n",
    "print('Critical Values:')\n",
    "for key, value in result[4].items():\n",
    "    print('\\t%s: %.3f' % (key, value))"
   ]
  },
  {
   "cell_type": "code",
   "execution_count": null,
   "metadata": {},
   "outputs": [],
   "source": [
    "plot_acf(df_population, ax=plt.gca())\n",
    "plt.show()"
   ]
  },
  {
   "cell_type": "code",
   "execution_count": null,
   "metadata": {},
   "outputs": [],
   "source": [
    "plot_pacf(df_population, ax=plt.gca())\n",
    "plt.show()"
   ]
  },
  {
   "cell_type": "code",
   "execution_count": null,
   "metadata": {},
   "outputs": [],
   "source": [
    "#clearly data is stationary\n",
    "train_population, test_population = df_population[:27], df_population[27:34]\n",
    "arima_population, pred_population = train_Arima(train_population)"
   ]
  },
  {
   "cell_type": "code",
   "execution_count": null,
   "metadata": {},
   "outputs": [],
   "source": [
    "population_mse, population_mae, population_mape = metrics(test_population, pred_population)\n",
    "print('EMPL Metrics',population_mse, population_mae, population_mape)"
   ]
  },
  {
   "cell_type": "code",
   "execution_count": null,
   "metadata": {},
   "outputs": [],
   "source": [
    "pred_population"
   ]
  },
  {
   "cell_type": "code",
   "execution_count": null,
   "metadata": {},
   "outputs": [],
   "source": [
    "test_population"
   ]
  },
  {
   "cell_type": "markdown",
   "metadata": {},
   "source": [
    "# 30-year_Interest_rate_Mortgage"
   ]
  },
  {
   "cell_type": "code",
   "execution_count": null,
   "metadata": {},
   "outputs": [],
   "source": [
    "#forecast for 30-year_Interest_rate_Mortgage\n",
    "df_30_int=df['30-year_Interest_rate_Mortgage']\n",
    "df_30_int=df_30_int.sort_index()\n",
    "df_30_int.head()"
   ]
  },
  {
   "cell_type": "code",
   "execution_count": null,
   "metadata": {},
   "outputs": [],
   "source": [
    "boxplot = df.boxplot(column=['30-year_Interest_rate_Mortgage'])"
   ]
  },
  {
   "cell_type": "code",
   "execution_count": null,
   "metadata": {},
   "outputs": [],
   "source": [
    "result = seasonal_decompose(df_30_int, model='additive', freq=1)\n",
    "result.plot()\n",
    "plt.show()"
   ]
  },
  {
   "cell_type": "code",
   "execution_count": null,
   "metadata": {},
   "outputs": [],
   "source": [
    "result = adfuller(df_30_int)\n",
    "print('ADF Statistic: %f' % result[0])\n",
    "print('p-value: %f' % result[1])\n",
    "print('Critical Values:')\n",
    "for key, value in result[4].items():\n",
    "    print('\\t%s: %.3f' % (key, value))"
   ]
  },
  {
   "cell_type": "code",
   "execution_count": null,
   "metadata": {},
   "outputs": [],
   "source": [
    "#data is not stationary \n",
    "#perform log transformation and check\n",
    "ts_30_int = np.log(df_30_int)\n",
    "result = adfuller(ts_30_int)\n",
    "print('ADF Statistic: %f' % result[0])\n",
    "print('p-value: %f' % result[1])\n",
    "print('Critical Values:')\n",
    "for key, value in result[4].items():\n",
    "    print('\\t%s: %.3f' % (key, value))"
   ]
  },
  {
   "cell_type": "code",
   "execution_count": null,
   "metadata": {},
   "outputs": [],
   "source": [
    "#even now data is not stationary, \n",
    "#perform differencing\n",
    "#differencing\n",
    "X=df_30_int\n",
    "diff = list()\n",
    "for i in range(1, len(X)):\n",
    "    value = X[i] - X[i - 1]\n",
    "    diff.append(value)"
   ]
  },
  {
   "cell_type": "code",
   "execution_count": null,
   "metadata": {},
   "outputs": [],
   "source": [
    "result = adfuller(diff)\n",
    "print('ADF Statistic: %f' % result[0])\n",
    "print('p-value: %f' % result[1])\n",
    "print('Critical Values:')\n",
    "for key, value in result[4].items():\n",
    "    print('\\t%s: %.3f' % (key, value))"
   ]
  },
  {
   "cell_type": "code",
   "execution_count": null,
   "metadata": {},
   "outputs": [],
   "source": [
    "#data is staionary at 5 and 10 % interval\n",
    "#now data is stationary check with KPSS as well\n",
    "kpsstest = kpss(diff, regression='c')\n",
    "kpss_output = pd.Series(kpsstest[0:3], index=['Test Statistic','p-value','Lags Used'])\n",
    "for key,value in kpsstest[3].items():\n",
    "    kpss_output['Critical Value (%s)'%key] = value\n",
    "print (kpss_output)\n"
   ]
  },
  {
   "cell_type": "code",
   "execution_count": null,
   "metadata": {},
   "outputs": [],
   "source": [
    "plt.plot(diff)"
   ]
  },
  {
   "cell_type": "code",
   "execution_count": null,
   "metadata": {},
   "outputs": [],
   "source": [
    "#KPSS is showing data is not stationary\n",
    "#performing the model as Dickey fuller test is working fine"
   ]
  },
  {
   "cell_type": "code",
   "execution_count": null,
   "metadata": {},
   "outputs": [],
   "source": [
    "plot_acf(df_30_int, ax=plt.gca())\n",
    "plt.show()"
   ]
  },
  {
   "cell_type": "code",
   "execution_count": null,
   "metadata": {},
   "outputs": [],
   "source": [
    "plot_pacf(df_30_int, ax=plt.gca())\n",
    "plt.show()"
   ]
  },
  {
   "cell_type": "code",
   "execution_count": null,
   "metadata": {},
   "outputs": [],
   "source": [
    "#now fit the arima \n",
    "tr_30_int, te_30_int = df_30_int[:27], df_30_int[27:35]\n",
    "model = SARIMAX(df_30_int, order=(3, 1, 0), seasonal_order=(0, 0, 0, 1))\n",
    "model_30init = model.fit(disp=False)\n"
   ]
  },
  {
   "cell_type": "code",
   "execution_count": null,
   "metadata": {},
   "outputs": [],
   "source": [
    "pred_30init = model_30init.predict(start = '2019-04-01', end ='2019-10-01')\n",
    "print(pred_30init)"
   ]
  },
  {
   "cell_type": "code",
   "execution_count": null,
   "metadata": {},
   "outputs": [],
   "source": [
    "int_30_mse, int_30_mae, int_30_mape = metrics(te_30_int, pred_30init)\n",
    "print('EMPL Metrics',int_30_mse, int_30_mae, int_30_mape)"
   ]
  },
  {
   "cell_type": "markdown",
   "metadata": {},
   "source": [
    "# ARMRATE"
   ]
  },
  {
   "cell_type": "code",
   "execution_count": null,
   "metadata": {},
   "outputs": [],
   "source": [
    "df_armrate=df['armrate']\n",
    "df_armrate=df_armrate.sort_index()\n",
    "df_armrate.head()"
   ]
  },
  {
   "cell_type": "code",
   "execution_count": null,
   "metadata": {},
   "outputs": [],
   "source": [
    "boxplot = df.boxplot(column=['armrate'\n",
    "                            ])"
   ]
  },
  {
   "cell_type": "code",
   "execution_count": null,
   "metadata": {},
   "outputs": [],
   "source": [
    "result = seasonal_decompose(df_armrate, model='additive', freq=1)\n",
    "result.plot()\n",
    "plt.show()"
   ]
  },
  {
   "cell_type": "code",
   "execution_count": null,
   "metadata": {},
   "outputs": [],
   "source": [
    "result = adfuller(df_armrate)\n",
    "print('ADF Statistic: %f' % result[0])\n",
    "print('p-value: %f' % result[1])\n",
    "print('Critical Values:')\n",
    "for key, value in result[4].items():\n",
    "    print('\\t%s: %.3f' % (key, value))"
   ]
  },
  {
   "cell_type": "code",
   "execution_count": null,
   "metadata": {},
   "outputs": [],
   "source": [
    "# data is not stationary, \n",
    "#perform differencing\n",
    "#differencing\n",
    "X=df_armrate\n",
    "diff = list()\n",
    "for i in range(1, len(X)):\n",
    "    value = X[i] - X[i - 1]\n",
    "    diff.append(value)"
   ]
  },
  {
   "cell_type": "code",
   "execution_count": null,
   "metadata": {},
   "outputs": [],
   "source": [
    "result = seasonal_decompose(diff, model='additive', freq=1)\n",
    "result.plot()\n",
    "plt.show()"
   ]
  },
  {
   "cell_type": "code",
   "execution_count": null,
   "metadata": {},
   "outputs": [],
   "source": [
    "result = adfuller(diff)\n",
    "print('ADF Statistic: %f' % result[0])\n",
    "print('p-value: %f' % result[1])\n",
    "print('Critical Values:')\n",
    "for key, value in result[4].items():\n",
    "    print('\\t%s: %.3f' % (key, value))"
   ]
  },
  {
   "cell_type": "code",
   "execution_count": null,
   "metadata": {},
   "outputs": [],
   "source": [
    "plt.plot(diff)"
   ]
  },
  {
   "cell_type": "code",
   "execution_count": null,
   "metadata": {},
   "outputs": [],
   "source": [
    "plot_acf(df_armrate, ax=plt.gca())\n",
    "plt.show()"
   ]
  },
  {
   "cell_type": "code",
   "execution_count": null,
   "metadata": {},
   "outputs": [],
   "source": [
    "plot_pacf(df_armrate, ax=plt.gca())\n",
    "plt.show()"
   ]
  },
  {
   "cell_type": "code",
   "execution_count": null,
   "metadata": {},
   "outputs": [],
   "source": [
    "#now data is stationary\n",
    "tr_armrate, te_armrate = df_armrate[:27], df_armrate[27:35]\n",
    "model = SARIMAX(tr_armrate, order=(3, 1, 0), seasonal_order=(0, 0, 0, 1))\n",
    "model_armrate = model.fit(disp=False)"
   ]
  },
  {
   "cell_type": "code",
   "execution_count": null,
   "metadata": {},
   "outputs": [],
   "source": [
    "pred_armrate = model_armrate.predict(start = '2019-04-01', end ='2019-10-01')\n",
    "print(pred_30init)"
   ]
  },
  {
   "cell_type": "code",
   "execution_count": null,
   "metadata": {},
   "outputs": [],
   "source": [
    "te_armrate"
   ]
  },
  {
   "cell_type": "code",
   "execution_count": null,
   "metadata": {},
   "outputs": [],
   "source": [
    "armrate_mse, armrate_mae, armrate_mape = metrics(te_armrate, pred_30init)\n",
    "print('EMPL Metrics',armrate_mse, armrate_mae, armrate_mape)"
   ]
  },
  {
   "cell_type": "markdown",
   "metadata": {},
   "source": [
    "# r-mortg"
   ]
  },
  {
   "cell_type": "code",
   "execution_count": null,
   "metadata": {},
   "outputs": [],
   "source": [
    "df_rmortg=df['r-mortg']\n",
    "df_rmortg=df_rmortg.sort_index()\n",
    "df_rmortg.head()"
   ]
  },
  {
   "cell_type": "code",
   "execution_count": null,
   "metadata": {},
   "outputs": [],
   "source": [
    "boxplot = df.boxplot(column=['r-mortg'])"
   ]
  },
  {
   "cell_type": "code",
   "execution_count": null,
   "metadata": {},
   "outputs": [],
   "source": [
    "result = seasonal_decompose(df_rmortg, model='additive', freq=1)\n",
    "result.plot()\n",
    "plt.show()"
   ]
  },
  {
   "cell_type": "code",
   "execution_count": null,
   "metadata": {},
   "outputs": [],
   "source": [
    "result = adfuller(df_rmortg)\n",
    "print('ADF Statistic: %f' % result[0])\n",
    "print('p-value: %f' % result[1])\n",
    "print('Critical Values:')\n",
    "for key, value in result[4].items():\n",
    "    print('\\t%s: %.3f' % (key, value))"
   ]
  },
  {
   "cell_type": "code",
   "execution_count": null,
   "metadata": {},
   "outputs": [],
   "source": [
    "#not stationary\n",
    "#perform log transformation and check\n",
    "ts_rmortg = np.log(df_rmortg)\n",
    "result = adfuller(ts_rmortg)\n",
    "print('ADF Statistic: %f' % result[0])\n",
    "print('p-value: %f' % result[1])\n",
    "print('Critical Values:')\n",
    "for key, value in result[4].items():\n",
    "    print('\\t%s: %.3f' % (key, value))"
   ]
  },
  {
   "cell_type": "code",
   "execution_count": null,
   "metadata": {},
   "outputs": [],
   "source": [
    "#even now data is not stationary, \n",
    "#perform differencing\n",
    "#differencing\n",
    "X=df_rmortg\n",
    "diff = list()\n",
    "for i in range(1, len(X)):\n",
    "    value = X[i] - X[i - 1]\n",
    "    diff.append(value)"
   ]
  },
  {
   "cell_type": "code",
   "execution_count": null,
   "metadata": {},
   "outputs": [],
   "source": [
    "result = seasonal_decompose(diff, model='additive', freq=1)\n",
    "result.plot()\n",
    "plt.show()"
   ]
  },
  {
   "cell_type": "code",
   "execution_count": null,
   "metadata": {},
   "outputs": [],
   "source": [
    "result = adfuller(diff)\n",
    "print('ADF Statistic: %f' % result[0])\n",
    "print('p-value: %f' % result[1])\n",
    "print('Critical Values:')\n",
    "for key, value in result[4].items():\n",
    "    print('\\t%s: %.3f' % (key, value))"
   ]
  },
  {
   "cell_type": "code",
   "execution_count": null,
   "metadata": {},
   "outputs": [],
   "source": [
    "#AT 5% and 10 the data is stationary\n",
    "#now stationary check with KPSS as well\n",
    "kpsstest = kpss(diff, regression='c')\n",
    "kpss_output = pd.Series(kpsstest[0:3], index=['Test Statistic','p-value','Lags Used'])\n",
    "for key,value in kpsstest[3].items():\n",
    "    kpss_output['Critical Value (%s)'%key] = value\n",
    "print (kpss_output)"
   ]
  },
  {
   "cell_type": "code",
   "execution_count": null,
   "metadata": {},
   "outputs": [],
   "source": [
    "#KPSS is showing data is not stationary\n",
    "#performing the model as Dickey fuller test is working fine"
   ]
  },
  {
   "cell_type": "code",
   "execution_count": null,
   "metadata": {},
   "outputs": [],
   "source": [
    "plot_acf(df_hpi, ax=plt.gca())\n",
    "plt.show()"
   ]
  },
  {
   "cell_type": "code",
   "execution_count": null,
   "metadata": {},
   "outputs": [],
   "source": [
    "\n",
    "\n",
    "\n",
    "plot_pacf(df_hpi, ax=plt.gca())\n",
    "plt.show()"
   ]
  },
  {
   "cell_type": "code",
   "execution_count": null,
   "metadata": {},
   "outputs": [],
   "source": [
    "#now fit the arima \n",
    "tr_rmortg, te_rmortg = df_rmortg[:27], df_rmortg[27:35]\n",
    "model = SARIMAX(tr_rmortg, order=(3, 1, 0), seasonal_order=(0, 0, 0, 1))\n",
    "model_rmortg = model.fit(disp=False)"
   ]
  },
  {
   "cell_type": "code",
   "execution_count": null,
   "metadata": {},
   "outputs": [],
   "source": [
    "pred_rmortg = model_rmortg.predict(start = '2019-04-01', end ='2019-10-01')\n",
    "print(pred_rmortg)"
   ]
  },
  {
   "cell_type": "code",
   "execution_count": null,
   "metadata": {},
   "outputs": [],
   "source": [
    "rmortg_mse, rmortg_mae, rmortg_mape = metrics(te_rmortg, pred_rmortg)\n",
    "print('EMPL Metrics',rmortg_mse, rmortg_mae, rmortg_mape)"
   ]
  },
  {
   "cell_type": "markdown",
   "metadata": {},
   "source": [
    "# 1_year_Treasury"
   ]
  },
  {
   "cell_type": "code",
   "execution_count": null,
   "metadata": {},
   "outputs": [],
   "source": [
    "df_1yr_tres=df['1_year_Treasury']\n",
    "df_1yr_tres=df_1yr_tres.sort_index()\n",
    "df_1yr_tres.head()"
   ]
  },
  {
   "cell_type": "code",
   "execution_count": null,
   "metadata": {},
   "outputs": [],
   "source": [
    "boxplot = df.boxplot(column=['1_year_Treasury'])"
   ]
  },
  {
   "cell_type": "code",
   "execution_count": null,
   "metadata": {},
   "outputs": [],
   "source": [
    "result = seasonal_decompose(df_1yr_tres, model='additive', freq=1)\n",
    "result.plot()\n",
    "plt.show()"
   ]
  },
  {
   "cell_type": "code",
   "execution_count": null,
   "metadata": {},
   "outputs": [],
   "source": [
    "result = adfuller(df_1yr_tres)\n",
    "print('ADF Statistic: %f' % result[0])\n",
    "print('p-value: %f' % result[1])\n",
    "print('Critical Values:')\n",
    "for key, value in result[4].items():\n",
    "    print('\\t%s: %.3f' % (key, value))"
   ]
  },
  {
   "cell_type": "code",
   "execution_count": null,
   "metadata": {},
   "outputs": [],
   "source": [
    "plot_acf(df_1yr_tres, ax=plt.gca())\n",
    "plt.show()"
   ]
  },
  {
   "cell_type": "code",
   "execution_count": null,
   "metadata": {},
   "outputs": [],
   "source": [
    "plot_pacf(df_1yr_tres, ax=plt.gca())\n",
    "plt.show()"
   ]
  },
  {
   "cell_type": "code",
   "execution_count": null,
   "metadata": {},
   "outputs": [],
   "source": [
    "#the data is stationary\n",
    "train_1yr , test_1yr = df_1yr_tres[:27], df_1yr_tres[27:34]\n",
    "arima_1yr, pred_1yr = train_Arima(train_1yr)\n",
    "arima_1yr"
   ]
  },
  {
   "cell_type": "code",
   "execution_count": null,
   "metadata": {},
   "outputs": [],
   "source": [
    "yr1_tres_mse, yr1_tres_mae, yr1_tres_mape = metrics(test_1yr, pred_1yr)\n",
    "print('EMPL Metrics',yr1_tres_mse, yr1_tres_mae, yr1_tres_mape)"
   ]
  },
  {
   "cell_type": "markdown",
   "metadata": {},
   "source": [
    "# 10_years_Treasury"
   ]
  },
  {
   "cell_type": "code",
   "execution_count": null,
   "metadata": {},
   "outputs": [],
   "source": [
    "df_10yr_tres=df['10_years_Treasury']\n",
    "df_10yr_tres=df_10yr_tres.sort_index()\n",
    "df_10yr_tres.head()"
   ]
  },
  {
   "cell_type": "code",
   "execution_count": null,
   "metadata": {},
   "outputs": [],
   "source": [
    "boxplot = df.boxplot(column=['10_years_Treasury'])"
   ]
  },
  {
   "cell_type": "code",
   "execution_count": null,
   "metadata": {},
   "outputs": [],
   "source": [
    "result = adfuller(df_10yr_tres)\n",
    "print('ADF Statistic: %f' % result[0])\n",
    "print('p-value: %f' % result[1])\n",
    "print('Critical Values:')\n",
    "for key, value in result[4].items():\n",
    "    print('\\t%s: %.3f' % (key, value))"
   ]
  },
  {
   "cell_type": "code",
   "execution_count": null,
   "metadata": {},
   "outputs": [],
   "source": [
    "result = seasonal_decompose(df_10yr_tres, model='additive', freq=1)\n",
    "result.plot()\n",
    "plt.show()"
   ]
  },
  {
   "cell_type": "code",
   "execution_count": null,
   "metadata": {},
   "outputs": [],
   "source": [
    "#differencing\n",
    "X=df_10yr_tres\n",
    "diff = list()\n",
    "for i in range(1, len(X)):\n",
    "    value = X[i] - X[i - 1]\n",
    "    diff.append(value)"
   ]
  },
  {
   "cell_type": "code",
   "execution_count": null,
   "metadata": {},
   "outputs": [],
   "source": [
    "result = adfuller(diff)\n",
    "print('ADF Statistic: %f' % result[0])\n",
    "print('p-value: %f' % result[1])\n",
    "print('Critical Values:')\n",
    "for key, value in result[4].items():\n",
    "    print('\\t%s: %.3f' % (key, value))"
   ]
  },
  {
   "cell_type": "code",
   "execution_count": null,
   "metadata": {},
   "outputs": [],
   "source": [
    "plt.plot(diff)"
   ]
  },
  {
   "cell_type": "code",
   "execution_count": null,
   "metadata": {},
   "outputs": [],
   "source": [
    "#not stationary\n",
    "#perform log transformation and check\n",
    "ts_10yr_tres = np.log(df_10yr_tres)\n",
    "result = adfuller(ts_10yr_tres)\n",
    "print('ADF Statistic: %f' % result[0])\n",
    "print('p-value: %f' % result[1])\n",
    "print('Critical Values:')\n",
    "for key, value in result[4].items():\n",
    "    print('\\t%s: %.3f' % (key, value))"
   ]
  },
  {
   "cell_type": "code",
   "execution_count": null,
   "metadata": {},
   "outputs": [],
   "source": [
    "#2nd order differencing\n",
    "X=df_10yr_tres\n",
    "diff2 = list()\n",
    "for i in range(1, len(X)):\n",
    "    value = X[i] - X[i - 2]\n",
    "    diff2.append(value)"
   ]
  },
  {
   "cell_type": "code",
   "execution_count": null,
   "metadata": {},
   "outputs": [],
   "source": [
    "plt.plot(diff2)"
   ]
  },
  {
   "cell_type": "code",
   "execution_count": null,
   "metadata": {},
   "outputs": [],
   "source": [
    "result = adfuller(diff2)\n",
    "print('ADF Statistic: %f' % result[0])\n",
    "print('p-value: %f' % result[1])\n",
    "print('Critical Values:')\n",
    "for key, value in result[4].items():\n",
    "    print('\\t%s: %.3f' % (key, value))"
   ]
  },
  {
   "cell_type": "code",
   "execution_count": null,
   "metadata": {},
   "outputs": [],
   "source": [
    "#3rd order differencing\n",
    "X=df_10yr_tres\n",
    "diff3 = list()\n",
    "for i in range(1, len(X)):\n",
    "    value = X[i] - X[i - 3]\n",
    "    diff3.append(value)"
   ]
  },
  {
   "cell_type": "code",
   "execution_count": null,
   "metadata": {},
   "outputs": [],
   "source": [
    "plt.plot(diff3)"
   ]
  },
  {
   "cell_type": "code",
   "execution_count": null,
   "metadata": {},
   "outputs": [],
   "source": [
    "result = adfuller(diff3)\n",
    "print('ADF Statistic: %f' % result[0])\n",
    "print('p-value: %f' % result[1])\n",
    "print('Critical Values:')\n",
    "for key, value in result[4].items():\n",
    "    print('\\t%s: %.3f' % (key, value))"
   ]
  },
  {
   "cell_type": "code",
   "execution_count": null,
   "metadata": {},
   "outputs": [],
   "source": [
    "plot_acf(df_10yr_tres, ax=plt.gca())\n",
    "plt.show()"
   ]
  },
  {
   "cell_type": "code",
   "execution_count": null,
   "metadata": {},
   "outputs": [],
   "source": [
    "plot_pacf(df_10yr_tres, ax=plt.gca())\n",
    "plt.show()"
   ]
  },
  {
   "cell_type": "code",
   "execution_count": null,
   "metadata": {},
   "outputs": [],
   "source": [
    "#at 3rd order differencing the data is stationary\n",
    "#now fit the arima \n",
    "tr_10yr_tres, te_10yr_tres = df_10yr_tres[:27], df_10yr_tres[27:35]\n",
    "model = SARIMAX(tr_10yr_tres, order=(5, 2, 0), seasonal_order=(0, 0, 0, 1))\n",
    "model_10yr_tres = model.fit(disp=False)"
   ]
  },
  {
   "cell_type": "code",
   "execution_count": null,
   "metadata": {},
   "outputs": [],
   "source": [
    "pred_10yr_tres = model_10yr_tres.predict(start = '2019-04-01', end ='2019-10-01')\n",
    "print(pred_10yr_tres)"
   ]
  },
  {
   "cell_type": "code",
   "execution_count": null,
   "metadata": {},
   "outputs": [],
   "source": [
    "te_10yr_tres"
   ]
  },
  {
   "cell_type": "code",
   "execution_count": null,
   "metadata": {},
   "outputs": [],
   "source": [
    "yr10_tres_mse, yr10_tres_mae, yr10_tres_mape = metrics(te_10yr_tres, pred_10yr_tres)\n",
    "print('EMPL Metrics',yr10_tres_mse, yr10_tres_mae, yr10_tres_mape)"
   ]
  },
  {
   "cell_type": "markdown",
   "metadata": {},
   "source": [
    "# unemploymet_rate"
   ]
  },
  {
   "cell_type": "code",
   "execution_count": null,
   "metadata": {},
   "outputs": [],
   "source": [
    "df_unemploy=df['unemploymet_rate']\n",
    "df_unemploy=df_unemploy.sort_index()\n",
    "df_unemploy.head()"
   ]
  },
  {
   "cell_type": "code",
   "execution_count": null,
   "metadata": {},
   "outputs": [],
   "source": [
    "df.boxplot(column=['unemploymet_rate'])"
   ]
  },
  {
   "cell_type": "code",
   "execution_count": null,
   "metadata": {},
   "outputs": [],
   "source": [
    "result = seasonal_decompose(df_unemploy, model='additive', freq=1)\n",
    "result.plot()\n",
    "plt.show()"
   ]
  },
  {
   "cell_type": "code",
   "execution_count": null,
   "metadata": {},
   "outputs": [],
   "source": [
    "result = adfuller(df_unemploy)\n",
    "print('ADF Statistic: %f' % result[0])\n",
    "print('p-value: %f' % result[1])\n",
    "print('Critical Values:')\n",
    "for key, value in result[4].items():\n",
    "    print('\\t%s: %.3f' % (key, value))"
   ]
  },
  {
   "cell_type": "code",
   "execution_count": null,
   "metadata": {},
   "outputs": [],
   "source": [
    "#differencing\n",
    "X=df_unemploy\n",
    "diff = list()\n",
    "for i in range(1, len(X)):\n",
    "    value = X[i] - X[i - 1]\n",
    "    diff.append(value)"
   ]
  },
  {
   "cell_type": "code",
   "execution_count": null,
   "metadata": {},
   "outputs": [],
   "source": [
    "result = adfuller(diff)\n",
    "print('ADF Statistic: %f' % result[0])\n",
    "print('p-value: %f' % result[1])\n",
    "print('Critical Values:')\n",
    "for key, value in result[4].items():\n",
    "    print('\\t%s: %.3f' % (key, value))"
   ]
  },
  {
   "cell_type": "code",
   "execution_count": null,
   "metadata": {},
   "outputs": [],
   "source": [
    "plt.plot(diff)"
   ]
  },
  {
   "cell_type": "code",
   "execution_count": null,
   "metadata": {},
   "outputs": [],
   "source": [
    "plot_acf(df_hpi, ax=plt.gca())\n",
    "plt.show()"
   ]
  },
  {
   "cell_type": "code",
   "execution_count": null,
   "metadata": {},
   "outputs": [],
   "source": [
    "plot_pacf(df_hpi, ax=plt.gca())\n",
    "plt.show()"
   ]
  },
  {
   "cell_type": "code",
   "execution_count": null,
   "metadata": {},
   "outputs": [],
   "source": [
    "#data is stationary\n",
    "#now fit the arima \n",
    "tr_unemploy, te_unemploy = df_rmortg[:27], df_rmortg[27:34]\n",
    "model = SARIMAX(tr_unemploy, order=(3, 1, 0), seasonal_order=(0, 0, 0, 1))\n",
    "model_unemploy = model.fit(disp=False)"
   ]
  },
  {
   "cell_type": "code",
   "execution_count": null,
   "metadata": {},
   "outputs": [],
   "source": [
    "# detrend\n",
    "pred_unemploy = model_unemploy.predict(start = '2019-04-01', end ='2019-10-01')\n",
    "print(pred_30init)"
   ]
  },
  {
   "cell_type": "code",
   "execution_count": null,
   "metadata": {},
   "outputs": [],
   "source": [
    "unemploy_mse, unemploy_mae, unemploy_mape = metrics(te_unemploy, pred_unemploy)\n",
    "print('EMPL Metrics',unemploy_mse, unemploy_mae, unemploy_mape)"
   ]
  },
  {
   "cell_type": "markdown",
   "metadata": {},
   "source": [
    "# MAPE for all the regressors on test data"
   ]
  },
  {
   "cell_type": "code",
   "execution_count": null,
   "metadata": {},
   "outputs": [],
   "source": [
    "print('HPI MAPE:- ',hpi_mape)\n",
    "print('EMPL MAPE:- ',empl_mape)\n",
    "print('ARM MAPE:- ',arm_mape)\n",
    "print('Population MAPE:- ',population_mape)\n",
    "print('30 years mortgage interest MAPE:- ',int_30_mape)\n",
    "print('ARM RATE MAPE:- ',armrate_mape)\n",
    "print('R-MORTG MAPE:- ', rmortg_mape)\n",
    "print('1 year treasury MAPE:- ',yr1_tres_mape)\n",
    "print('10 Years treasury MAPE',yr10_tres_mape)\n",
    "print('Unemployee MAPE:- ',unemploy_mape)"
   ]
  },
  {
   "cell_type": "markdown",
   "metadata": {},
   "source": [
    "# Get all the 34 points predictions"
   ]
  },
  {
   "cell_type": "code",
   "execution_count": null,
   "metadata": {},
   "outputs": [],
   "source": [
    "#do it as a csv\n",
    "df_all = pd.DataFrame()"
   ]
  },
  {
   "cell_type": "code",
   "execution_count": null,
   "metadata": {},
   "outputs": [],
   "source": [
    "df_all['HPI'] = model_hpi.predict(start = 0, end = 33)\n",
    "df_all['EMPL_nonfarm_Employment'] = model_empl.predict(start = '2017-01-01', end ='2019-10-01')\n",
    "df_all['arm_-_adjustable_rates'] = arima_arm.predict(n_periods=34)\n",
    "df_all['population(Millions)'] = arima_population.predict(n_periods=34)\n",
    "df_all['30year_Interest_rate_Mortgage'] = model_30init.predict(start = '2017-01-01', end ='2019-10-01')\n",
    "df_all['armrate']= model_armrate.predict(start = '2017-01-01', end ='2019-10-01')\n",
    "df_all['r_mortg'] = model_rmortg.predict(start = '2017-01-01', end ='2019-10-01')\n",
    "df_all['spread-mortg'] =(df_all['armrate'] - df_all['30year_Interest_rate_Mortgage']).abs()\n",
    "df_all['1_year_Treasury'] = arima_1yr.predict(n_periods=34)\n",
    "df_all['10_years_Treasury'] = model_10yr_tres.predict(start = '2017-01-01', end ='2019-10-01')\n",
    "df_all['treasury_Difference(Spread_treas)'] = (df_all['10_years_Treasury'] - df_all['1_year_Treasury']).abs()\n",
    "df_all['unemploymet_rate'] = model_unemploy .predict(start = '2017-01-01', end ='2019-10-01')"
   ]
  },
  {
   "cell_type": "code",
   "execution_count": null,
   "metadata": {},
   "outputs": [],
   "source": [
    "df_all.head()"
   ]
  },
  {
   "cell_type": "code",
   "execution_count": null,
   "metadata": {},
   "outputs": [],
   "source": [
    "df_all.to_csv('Predicted_values.Csv', index=True)"
   ]
  },
  {
   "cell_type": "code",
   "execution_count": null,
   "metadata": {},
   "outputs": [],
   "source": [
    "df_all['HPI'] = model_hpi.predict(start = 1, end = 33)\n",
    "df_all['EMPL_nonfarm_Employment'] = model_empl.predict(start = '2017-02-01', end ='2019-10-01')\n",
    "df_all['arm_adjustable_rates'] = arima_arm.predict(n_periods=34)\n",
    "df_all['population_Millions'] = arima_population.predict(n_periods=34)\n",
    "df_all['30year_Interest_rate_Mortgage'] = model_30init.predict(start = '2017-02-01', end ='2019-10-01')\n",
    "df_all['armrate']= model_armrate.predict(start = '2017-02-01', end ='2019-10-01')\n",
    "df_all['r_mortg'] = model_rmortg.predict(start = '2017-02-01', end ='2019-10-01')\n",
    "df_all['spread-mortg'] =(df_all['armrate'] - df_all['30year_Interest_rate_Mortgage']).abs()\n",
    "df_all['1_year_Treasury'] = arima_1yr.predict(n_periods=34)\n",
    "df_all['10_years_Treasury'] = model_10yr_tres.predict(start = '2017-02-01', end ='2019-10-01')\n",
    "df_all['treasury_Difference(Spread_treas)'] = (df_all['10_years_Treasury'] - df_all['1_year_Treasury']).abs()\n",
    "df_all['unemploymet_rate'] = model_unemploy .predict(start = '2017-02-01', end ='2019-10-01')"
   ]
  },
  {
   "cell_type": "code",
   "execution_count": null,
   "metadata": {},
   "outputs": [],
   "source": [
    "df_all.head()"
   ]
  },
  {
   "cell_type": "code",
   "execution_count": null,
   "metadata": {},
   "outputs": [],
   "source": [
    "df_all.to_csv('Predicted_values1.Csv', index=True)"
   ]
  },
  {
   "cell_type": "markdown",
   "metadata": {},
   "source": [
    "# MAPE for real and forecasted for all values"
   ]
  },
  {
   "cell_type": "markdown",
   "metadata": {},
   "source": [
    "# Get future 6 months prediction"
   ]
  },
  {
   "cell_type": "code",
   "execution_count": null,
   "metadata": {},
   "outputs": [],
   "source": [
    "#do it as a csv\n",
    "df_for_future = pd.DataFrame()"
   ]
  },
  {
   "cell_type": "code",
   "execution_count": null,
   "metadata": {},
   "outputs": [],
   "source": [
    "df_for_future['HPI'] = model_hpi.predict(start = '2019-12-01', end ='2020-02-01')\n",
    "df_for_future['EMPL_nonfarm_Employment'] = model_empl.predict(start = '2019-12-01', end ='2020-02-01')\n",
    "df_for_future['arm_-_adjustable_rates'] = arima_arm.predict(n_periods=6)\n",
    "df_for_future['population(Millions)'] = arima_population.predict(n_periods=6)\n",
    "df_for_future['30year_Interest_rate_Mortgage'] = model_30init.predict(start = '2019-12-01', end ='2020-02-01')\n",
    "df_for_future['armrate']= model_armrate.predict(start = '2019-12-01', end ='2020-02-01')\n",
    "df_for_future['r_mortg'] = model_rmortg.predict(start = '2019-12-01', end ='2020-02-01')\n",
    "df_for_future['spread-mortg'] =(df_for_future['armrate'] - df_for_future['30year_Interest_rate_Mortgage']).abs()\n",
    "df_for_future['1_year_Treasury'] = arima_1yr.predict(n_periods=3)\n",
    "df_for_future['10_years_Treasury'] = model_10yr_tres.predict(start = '2019-12-01', end ='2020-02-01')\n",
    "df_for_future['treasury_Difference(Spread_treas)'] = (df_for_future['10_years_Treasury'] - df_for_future['1_year_Treasury']).abs()\n",
    "df_for_future['unemploymet_rate'] = model_unemploy .predict(start = '2019-12-01', end ='2020-02-01')"
   ]
  },
  {
   "cell_type": "code",
   "execution_count": null,
   "metadata": {},
   "outputs": [],
   "source": [
    "df_for_future"
   ]
  },
  {
   "cell_type": "code",
   "execution_count": null,
   "metadata": {},
   "outputs": [],
   "source": [
    "df_for_future.to_csv('Predicted_values_for_3_months.Csv', index=True)"
   ]
  },
  {
   "cell_type": "markdown",
   "metadata": {},
   "source": [
    "# Predict for the train data and check the MAPE"
   ]
  },
  {
   "cell_type": "code",
   "execution_count": null,
   "metadata": {},
   "outputs": [],
   "source": [
    "df_for_train = pd.DataFrame()"
   ]
  },
  {
   "cell_type": "code",
   "execution_count": null,
   "metadata": {},
   "outputs": [],
   "source": [
    "df_for_train['HPI'] = model_hpi.predict(start = '2017-01-01', end ='2019-03-01')\n",
    "df_for_train['EMPL_nonfarm_Employment'] = model_empl.predict(start = '2017-01-01', end ='2019-03-01')\n",
    "df_for_train['arm_adjustable_rates'] = arima_arm.predict(n_periods=27)\n",
    "df_for_train['population_Millions'] = arima_population.predict(n_periods=27)\n",
    "df_for_train['y30year_Interest_rate_Mortgage'] = model_30init.predict(start = '2017-01-01', end ='2019-03-01')\n",
    "df_for_train['armrate']= model_armrate.predict(start = '2017-01-01', end ='2019-03-01')\n",
    "df_for_train['r_mortg'] = model_rmortg.predict(start = '2017-01-01', end ='2019-03-01')\n",
    "df_for_train['spread-mortg'] =(df_for_train['armrate'] - df_for_train['y30year_Interest_rate_Mortgage']).abs()\n",
    "df_for_train['y1_year_Treasury'] = arima_1yr.predict(n_periods=27)\n",
    "df_for_train['y10_years_Treasury'] = model_10yr_tres.predict(start = '2017-01-01', end ='2019-03-01')\n",
    "df_for_train['treasury_Difference(Spread_treas)'] = (df_for_train['y10_years_Treasury'] - df_for_train['y1_year_Treasury']).abs()\n",
    "df_for_train['unemploymet_rate'] = model_unemploy .predict(start = '2017-01-01', end ='2019-03-01')"
   ]
  },
  {
   "cell_type": "code",
   "execution_count": null,
   "metadata": {},
   "outputs": [],
   "source": [
    "hpi_mse_tr, hpi_mae_tr, hpi_mape_tr = metrics(tr_hpi, df_for_train.HPI)\n",
    "empl_mse_tr, empl_mae_tr, empl_mape_tr = metrics(tr_empl, df_for_train.EMPL_nonfarm_Employment)\n",
    "arm_mse_tr, arm_mae_tr, arm_mape_tr = metrics(train_arm, df_for_train.arm_adjustable_rates)\n",
    "population_mse_tr, population_mae_tr, population_mape_tr = metrics(train_population, df_for_train.population_Millions)\n",
    "int_30_msetr, int_30_maetr, int_30_mapetr = metrics(tr_30_int, df_for_train.y30year_Interest_rate_Mortgage)\n",
    "armrate_msetr, armrate_maetr, armrate_mapetr = metrics(tr_armrate, df_for_train.armrate)\n",
    "rmortg_msetr, rmortg_maetr, rmortg_mapetr = metrics(tr_rmortg, df_for_train.r_mortg)\n",
    "yr1_tres_msetr, yr1_tres_maetr, yr1_tres_mapetr = metrics(train_1yr, df_for_train.y1_year_Treasury)\n",
    "yr10_tres_msetr, yr10_tres_maetr, yr10_tres_mapetr = metrics(tr_10yr_tres, df_for_train.y10_years_Treasury)\n",
    "unemploy_msetr, unemploy_maetr, unemploy_mapetr = metrics(tr_unemploy, df_for_train.unemploymet_rate)"
   ]
  },
  {
   "cell_type": "markdown",
   "metadata": {},
   "source": [
    "# MAPE for the train data"
   ]
  },
  {
   "cell_type": "code",
   "execution_count": null,
   "metadata": {},
   "outputs": [],
   "source": [
    "print('HPI MAPE:- ',hpi_mape_tr)\n",
    "print('EMPL MAPE:- ',empl_mape_tr)\n",
    "print('ARM MAPE:- ',arm_mape_tr)\n",
    "print('Population MAPE:- ',population_mape_tr)\n",
    "print('30 years mortgage interest MAPE:- ',int_30_mapetr)\n",
    "print('ARM RATE MAPE:- ',armrate_mapetr)\n",
    "print('R-MORTG MAPE:- ', rmortg_mapetr)\n",
    "print('1 year treasury MAPE:- ',yr1_tres_mapetr)\n",
    "print('10 Years treasury MAPE',yr10_tres_mapetr)\n",
    "print('Unemployee MAPE:- ',unemploy_mapetr)"
   ]
  },
  {
   "cell_type": "code",
   "execution_count": null,
   "metadata": {},
   "outputs": [],
   "source": [
    "df_for_train.to_csv(\"Prediction_on_train_set.CSV\", index=True)"
   ]
  },
  {
   "cell_type": "code",
   "execution_count": null,
   "metadata": {},
   "outputs": [],
   "source": []
  }
 ],
 "metadata": {
  "kernelspec": {
   "display_name": "Python 3",
   "language": "python",
   "name": "python3"
  },
  "language_info": {
   "codemirror_mode": {
    "name": "ipython",
    "version": 3
   },
   "file_extension": ".py",
   "mimetype": "text/x-python",
   "name": "python",
   "nbconvert_exporter": "python",
   "pygments_lexer": "ipython3",
   "version": "3.7.3"
  }
 },
 "nbformat": 4,
 "nbformat_minor": 2
}
